{
 "cells": [
  {
   "cell_type": "code",
   "execution_count": 7,
   "metadata": {},
   "outputs": [],
   "source": [
    "SHOP_1:(50,51)\n",
    "SHOP_2 = (20,41)\n",
    "SHOP_3 = (10,61)"
   ]
  },
  {
   "cell_type": "code",
   "execution_count": 8,
   "metadata": {},
   "outputs": [
    {
     "name": "stdout",
     "output_type": "stream",
     "text": [
      "Input location  11 12\n",
      "closest shop SHOP2\n"
     ]
    }
   ],
   "source": [
    "def user_location():\n",
    "    try:\n",
    "        x,y = input('Input location  ').split()\n",
    "        x, y = float(x), float(y)\n",
    "        return (x,y)\n",
    "    except Exception as e:\n",
    "        return None\n",
    "\n",
    "def dist(loc1,loc2):\n",
    "    x1 = loc1[0]\n",
    "    y1 = loc1[1]\n",
    "    x2 = loc2[0]\n",
    "    y2 = loc2[1]\n",
    "    \n",
    "    c = (x1-x2)**2 + (y1-y2)**2\n",
    "    return c\n",
    "\n",
    "def find_min(user_loc):\n",
    "    len_shop1 = dist(SHOP_1, user_loc)\n",
    "    len_shop2 = dist(SHOP_2, user_loc)\n",
    "    len_shop3 = dist(SHOP_3, user_loc)\n",
    "    if(len_shop1<=len_shop2) and (len_shop1 <= len_shop3):\n",
    "        return ('SHOP1')\n",
    "    elif (len_shop2<=len_shop1) and (len_shop2 <= len_shop3):\n",
    "        return ('SHOP2')\n",
    "    elif (len_shop3<=len_shop1) and (len_shop3 <= len_shop2):\n",
    "        return ('SHOP3')\n",
    "        \n",
    "def show_result(text):\n",
    "    print('closest shop '+ text)\n",
    "\n",
    "if __name__ == '__main__':\n",
    "    if user_location == None:\n",
    "        print ('ups..')\n",
    "    else:\n",
    "        u_l = user_location()\n",
    "        res = find_min(u_l)\n",
    "        show_result(res)\n",
    "\n",
    "    \n",
    "    \n",
    "    \n",
    "        "
   ]
  },
  {
   "cell_type": "code",
   "execution_count": 20,
   "metadata": {},
   "outputs": [
    {
     "name": "stdout",
     "output_type": "stream",
     "text": [
      "Input location  12 39\n",
      "closest shop SHOP2\n"
     ]
    }
   ],
   "source": [
    "def user_location():\n",
    "    try:\n",
    "        x,y = input('Input location  ').split()\n",
    "        x, y = float(x), float(y)\n",
    "        return (x,y)\n",
    "    except Exception as e:\n",
    "        return None\n",
    "\n",
    "def dist(loc1,loc2):\n",
    "    x1 = loc1[0]\n",
    "    y1 = loc1[1]\n",
    "    x2 = loc2[0]\n",
    "    y2 = loc2[1]\n",
    "    \n",
    "    c = (x1-x2)**2 + (y1-y2)**2\n",
    "    return c\n",
    "\n",
    "def find_min(user_loc):\n",
    "    len_shop1 = dist(SHOP_1, user_loc)\n",
    "    len_shop2 = dist(SHOP_2, user_loc)\n",
    "    len_shop3 = dist(SHOP_3, user_loc)\n",
    "    if(len_shop1<=len_shop2) and (len_shop1 <= len_shop3):\n",
    "        return ('SHOP1')\n",
    "    elif (len_shop2<=len_shop1) and (len_shop2 <= len_shop3):\n",
    "        return ('SHOP2')\n",
    "    elif (len_shop3<=len_shop1) and (len_shop3 <= len_shop2):\n",
    "        return ('SHOP3')\n",
    "        \n",
    "def show_result(text):\n",
    "    print('closest shop '+ text)\n",
    "\n",
    "if __name__ == '__main__':\n",
    "    if user_location == None:\n",
    "        print ('ups..')\n",
    "    else:\n",
    "        u_l = user_location()\n",
    "        res = find_min(u_l)\n",
    "        show_result(res)\n"
   ]
  },
  {
   "cell_type": "code",
   "execution_count": 23,
   "metadata": {},
   "outputs": [],
   "source": [
    "user_l = (12,39)\n",
    "dist(SHOP_1,user_l)\n",
    "dist(SHOP_2,user_l)\n",
    "dist(SHOP_3,user_l)\n",
    "l1 = [SHOP_1,SHOP_2,SHOP_3]"
   ]
  },
  {
   "cell_type": "code",
   "execution_count": 33,
   "metadata": {},
   "outputs": [
    {
     "data": {
      "text/plain": [
       "[(1588, (50, 51)), (68, (20, 41)), (488, (10, 61))]"
      ]
     },
     "execution_count": 33,
     "metadata": {},
     "output_type": "execute_result"
    }
   ],
   "source": [
    "[(dist(i,user_l),i) for i in l1]"
   ]
  },
  {
   "cell_type": "code",
   "execution_count": 35,
   "metadata": {},
   "outputs": [],
   "source": [
    "shops = {\"SHOP_1\":(50,51),\"SHOP_2\" :(20,41),\"SHOP_3\" : (10,61)}"
   ]
  },
  {
   "cell_type": "code",
   "execution_count": 47,
   "metadata": {},
   "outputs": [
    {
     "data": {
      "text/plain": [
       "{'SHOP_1': (50, 51), 'SHOP_2': (20, 41), 'SHOP_3': (10, 61)}"
      ]
     },
     "execution_count": 47,
     "metadata": {},
     "output_type": "execute_result"
    }
   ],
   "source": [
    "{key:value for (key,value) in shops.items()}"
   ]
  },
  {
   "cell_type": "code",
   "execution_count": 51,
   "metadata": {},
   "outputs": [
    {
     "data": {
      "text/plain": [
       "{'SHOP_1': 1588, 'SHOP_2': 68, 'SHOP_3': 488}"
      ]
     },
     "execution_count": 51,
     "metadata": {},
     "output_type": "execute_result"
    }
   ],
   "source": [
    "{key:dist(value,user_l) for key,value in shops.items()}"
   ]
  }
 ],
 "metadata": {
  "kernelspec": {
   "display_name": "Python 3",
   "language": "python",
   "name": "python3"
  },
  "language_info": {
   "codemirror_mode": {
    "name": "ipython",
    "version": 3
   },
   "file_extension": ".py",
   "mimetype": "text/x-python",
   "name": "python",
   "nbconvert_exporter": "python",
   "pygments_lexer": "ipython3",
   "version": "3.8.5"
  }
 },
 "nbformat": 4,
 "nbformat_minor": 4
}
