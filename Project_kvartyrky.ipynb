{
 "cells": [
  {
   "cell_type": "code",
   "execution_count": 8,
   "metadata": {},
   "outputs": [],
   "source": [
    "import requests\n",
    "from bs4 import BeautifulSoup\n",
    "\n",
    "#SITE = 'https://dom.ria.com/uk/prodazha-kvartir/kiev/?commercial=all&page='\n",
    "SITE = 'https://flatfy.ua/uk/%D0%BF%D1%80%D0%BE%D0%B4%D0%B0%D0%B6-%D0%BA%D0%B2%D0%B0%D1%80%D1%82%D0%B8%D1%80-%D0%BA%D0%B8%D1%97%D0%B2?page=1'"
   ]
  },
  {
   "cell_type": "code",
   "execution_count": 2,
   "metadata": {},
   "outputs": [],
   "source": [
    "HEADERS = {\n",
    "            'User-Agent': 'Mozilla/5.0 (Windows NT 6.1; WOW64; rv:49.0) Gecko/20100101 Firefox/49.0',\n",
    "            'Accept': 'text/html,application/xhtml+xml,application/xml;q=0.9,*/*;q=0.8',\n",
    "            'Accept-Language': 'en-US,en;q=0.5',\n",
    "            'Accept-Encoding': 'gzip, deflate',\n",
    "            'DNT': '1',\n",
    "            'Connection': 'keep-alive',\n",
    "            'Upgrade-Insecure-Requests': '1'\n",
    "        }\n"
   ]
  },
  {
   "cell_type": "code",
   "execution_count": 9,
   "metadata": {},
   "outputs": [],
   "source": [
    "r = requests.get(SITE, headers = HEADERS)\n"
   ]
  },
  {
   "cell_type": "code",
   "execution_count": 10,
   "metadata": {},
   "outputs": [],
   "source": [
    "soup = BeautifulSoup(r.text, 'lxml')"
   ]
  },
  {
   "cell_type": "code",
   "execution_count": 33,
   "metadata": {
    "scrolled": true
   },
   "outputs": [
    {
     "name": "stdout",
     "output_type": "stream",
     "text": [
      "поверх 14 з 17\n",
      "поверх 7 з 24\n",
      "поверх 16 з 18\n",
      "поверх 19 з 25\n",
      "поверх 7 з 16\n",
      "поверх 22 з 27\n",
      "поверх 12 з 17\n",
      "поверх 4 з 23\n",
      "поверх 18 з 24\n",
      "поверх 7 з 8\n",
      "поверх 21 з 23\n",
      "поверх 3 з 26\n",
      "поверх 23 з 25\n",
      "поверх 10 з 18\n",
      "поверх 3 з 6\n",
      "поверх 2 з 9\n",
      "поверх 6 з 10\n",
      "поверх 23 з 24\n",
      "поверх 6 з 11\n",
      "поверх 21 з 26\n",
      "поверх 3 з 23\n",
      "поверх 11 з 26\n",
      "поверх 4 з 4\n",
      "поверх 23 з 24\n"
     ]
    }
   ],
   "source": [
    "substr = 'поверх'\n",
    "for el in soup.find_all('span',class_ = 'realty-preview__info'):\n",
    "    if substr in el.text:\n",
    "        print(el.text)"
   ]
  },
  {
   "cell_type": "code",
   "execution_count": null,
   "metadata": {},
   "outputs": [],
   "source": []
  },
  {
   "cell_type": "code",
   "execution_count": 41,
   "metadata": {},
   "outputs": [],
   "source": [
    "price = []\n",
    "for i in range(1,4):\n",
    "    r = requests.get(SITE+str(i), headers=HEADERS)\n",
    "\n",
    "    if r.status_code == 200:\n",
    "        soup = BeautifulSoup(r.text, 'lxml')\n",
    "        for el in soup.find_all('b',title = 'Ціна'):\n",
    "            pr = el.text\n",
    "            pr = int(pr.replace(' ','').replace('$',''))    \n",
    "            price.append(pr)\n",
    "        "
   ]
  },
  {
   "cell_type": "code",
   "execution_count": 42,
   "metadata": {},
   "outputs": [
    {
     "data": {
      "text/plain": [
       "[130000,\n",
       " 99450,\n",
       " 68724,\n",
       " 110000,\n",
       " 419000,\n",
       " 220000,\n",
       " 310000,\n",
       " 210000,\n",
       " 124500,\n",
       " 27685,\n",
       " 159174,\n",
       " 162497,\n",
       " 168692,\n",
       " 156017,\n",
       " 165876,\n",
       " 165506,\n",
       " 149209,\n",
       " 164045,\n",
       " 154529,\n",
       " 148659,\n",
       " 32300,\n",
       " 155000,\n",
       " 85000,\n",
       " 109000,\n",
       " 285000,\n",
       " 550000,\n",
       " 1399900,\n",
       " 499000,\n",
       " 540000,\n",
       " 220000,\n",
       " 300000,\n",
       " 1300000,\n",
       " 116159,\n",
       " 54705,\n",
       " 96862,\n",
       " 91007,\n",
       " 63688,\n",
       " 94881,\n",
       " 82571,\n",
       " 92629,\n",
       " 153000,\n",
       " 82000,\n",
       " 134900,\n",
       " 140000,\n",
       " 410000,\n",
       " 255000,\n",
       " 125000,\n",
       " 295000,\n",
       " 300000,\n",
       " 46000,\n",
       " 98000,\n",
       " 85000,\n",
       " 76000,\n",
       " 89864,\n",
       " 195000,\n",
       " 44923,\n",
       " 192007,\n",
       " 60607,\n",
       " 73417,\n",
       " 181327]"
      ]
     },
     "execution_count": 42,
     "metadata": {},
     "output_type": "execute_result"
    }
   ],
   "source": [
    "price"
   ]
  },
  {
   "cell_type": "code",
   "execution_count": null,
   "metadata": {},
   "outputs": [],
   "source": []
  }
 ],
 "metadata": {
  "kernelspec": {
   "display_name": "Python 3",
   "language": "python",
   "name": "python3"
  },
  "language_info": {
   "codemirror_mode": {
    "name": "ipython",
    "version": 3
   },
   "file_extension": ".py",
   "mimetype": "text/x-python",
   "name": "python",
   "nbconvert_exporter": "python",
   "pygments_lexer": "ipython3",
   "version": "3.8.5"
  }
 },
 "nbformat": 4,
 "nbformat_minor": 4
}
