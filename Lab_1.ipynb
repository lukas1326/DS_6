{
 "cells": [
  {
   "cell_type": "markdown",
   "metadata": {},
   "source": [
    "## 1. Markdown cells\n",
    "\n",
    " - Hi! Its MAin Academy?\n",
    " - All HTML tabs are supported\n",
    " \n",
    " \n",
    " # This is Heading1\n",
    " \n",
    " ## This is Heading2\n",
    " \n",
    " some gray colored text\n",
    " \n",
    " > This is where we can bring quotes and present them nisely\n",
    " \n",
    " This is paragraph about something very important even math:\n",
    " \n",
    " \n",
    " \\begin{equation} \n",
    " \n",
    " y_sub = \n",
    " \n",
    " \\end{equation}\n",
    "  "
   ]
  },
  {
   "cell_type": "code",
   "execution_count": null,
   "metadata": {},
   "outputs": [],
   "source": [
    "#  \\\\\\|\\\\|"
   ]
  }
 ],
 "metadata": {
  "kernelspec": {
   "display_name": "Python 3",
   "language": "python",
   "name": "python3"
  },
  "language_info": {
   "codemirror_mode": {
    "name": "ipython",
    "version": 3
   },
   "file_extension": ".py",
   "mimetype": "text/x-python",
   "name": "python",
   "nbconvert_exporter": "python",
   "pygments_lexer": "ipython3",
   "version": "3.8.5"
  }
 },
 "nbformat": 4,
 "nbformat_minor": 4
}
