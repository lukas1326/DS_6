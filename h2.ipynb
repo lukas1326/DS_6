{
 "cells": [
  {
   "cell_type": "markdown",
   "metadata": {},
   "source": [
    "Завдання 1\n",
    "    Задано деякі числа A та B (int):\n",
    "        - Перевірити умову: \"Число A є додатнє\"\n",
    "        - Перевірити умову: \"Число A парне\"\n",
    "        - Перевірити умову: \"Число A кратне 13\"\n",
    "        - Перевірити умову: \"Кожне із чисел A та B - парне\"\n",
    "        - Перевірити умову: \"Кожне із чисел A та B мають однакову парність \"\n"
   ]
  },
  {
   "cell_type": "markdown",
   "metadata": {},
   "source": [
    "Завдання 2\n",
    "    Задано деякий пароль Pass (str). Перевірити чи пароль \"сильний\" \n",
    "    (пароль будемо вважати \"сильним\", якщо він складається з 8 символів (або більше) та містить символ @ або # )\n",
    "    Програма повертає True або False\n",
    "\n",
    "Завдання 3\n",
    "    Дано деякий символ Char. Вивести символи, що ідуть перед та після символу Char в кодовій таблиці ASCII\n",
    "\n",
    "Завдання 4\n",
    "    Дана стрічка, що складається із двох слів розділених пробілом.\n",
    "    Слова та порядок букв в словах поміняйте місцями.\n",
    "    (Наприклад, \"One Two\" --> \"owT enO\")\n",
    "\n"
   ]
  },
  {
   "cell_type": "code",
   "execution_count": 10,
   "metadata": {},
   "outputs": [
    {
     "name": "stdout",
     "output_type": "stream",
     "text": [
      "4\n",
      "2\n"
     ]
    },
    {
     "data": {
      "text/plain": [
       "True"
      ]
     },
     "execution_count": 10,
     "metadata": {},
     "output_type": "execute_result"
    }
   ],
   "source": [
    "#Завдання 1\n",
    "\n",
    "a = int(input())\n",
    "b = int(input())\n",
    "# - Перевірити умову: \"Число A є додатнє\"\n",
    "a > 0"
   ]
  },
  {
   "cell_type": "code",
   "execution_count": 11,
   "metadata": {
    "scrolled": true
   },
   "outputs": [
    {
     "data": {
      "text/plain": [
       "True"
      ]
     },
     "execution_count": 11,
     "metadata": {},
     "output_type": "execute_result"
    }
   ],
   "source": [
    "# - Перевірити умову: \"Число A парне\"\n",
    "a % 2 == 0"
   ]
  },
  {
   "cell_type": "code",
   "execution_count": 12,
   "metadata": {
    "scrolled": false
   },
   "outputs": [
    {
     "data": {
      "text/plain": [
       "False"
      ]
     },
     "execution_count": 12,
     "metadata": {},
     "output_type": "execute_result"
    }
   ],
   "source": [
    "# Перевірити умову: \"Число A кратне 13\"\n",
    "a % 13 ==0"
   ]
  },
  {
   "cell_type": "code",
   "execution_count": 13,
   "metadata": {},
   "outputs": [
    {
     "data": {
      "text/plain": [
       "True"
      ]
     },
     "execution_count": 13,
     "metadata": {},
     "output_type": "execute_result"
    }
   ],
   "source": [
    "# Перевірити умову: \"Кожне із чисел A та B - парне\"\n",
    "a % 2 == 0 and b % 2 == 0"
   ]
  },
  {
   "cell_type": "code",
   "execution_count": 16,
   "metadata": {},
   "outputs": [
    {
     "data": {
      "text/plain": [
       "True"
      ]
     },
     "execution_count": 16,
     "metadata": {},
     "output_type": "execute_result"
    }
   ],
   "source": [
    "# Перевірити умову: \"Кожне із чисел A та B мають однакову парність \"\n",
    "a % 2 == b % 2"
   ]
  },
  {
   "cell_type": "code",
   "execution_count": 33,
   "metadata": {},
   "outputs": [
    {
     "name": "stdout",
     "output_type": "stream",
     "text": [
      "sdkfjhkh@#dfhjkg\n"
     ]
    }
   ],
   "source": [
    "#Завдання 2\n",
    "password = input()\n"
   ]
  },
  {
   "cell_type": "code",
   "execution_count": 34,
   "metadata": {
    "scrolled": true
   },
   "outputs": [
    {
     "data": {
      "text/plain": [
       "True"
      ]
     },
     "execution_count": 34,
     "metadata": {},
     "output_type": "execute_result"
    }
   ],
   "source": [
    "len(password)>=8 and (password.__contains__('@') or password.__contains__('#'))"
   ]
  },
  {
   "cell_type": "code",
   "execution_count": 44,
   "metadata": {},
   "outputs": [
    {
     "name": "stdout",
     "output_type": "stream",
     "text": [
      "k\n"
     ]
    }
   ],
   "source": [
    "#Завдання 3\n",
    "\n",
    "a = input()"
   ]
  },
  {
   "cell_type": "code",
   "execution_count": 45,
   "metadata": {},
   "outputs": [
    {
     "data": {
      "text/plain": [
       "('j', 'l')"
      ]
     },
     "execution_count": 45,
     "metadata": {},
     "output_type": "execute_result"
    }
   ],
   "source": [
    "chr(ord(a)-1),chr(ord(a)+1)"
   ]
  },
  {
   "cell_type": "code",
   "execution_count": 35,
   "metadata": {},
   "outputs": [
    {
     "name": "stdout",
     "output_type": "stream",
     "text": [
      "dhjfk fjkl\n"
     ]
    }
   ],
   "source": [
    "#Завдання 4\n",
    "z = input()"
   ]
  },
  {
   "cell_type": "code",
   "execution_count": 38,
   "metadata": {},
   "outputs": [
    {
     "data": {
      "text/plain": [
       "'lkjf kfjhd'"
      ]
     },
     "execution_count": 38,
     "metadata": {},
     "output_type": "execute_result"
    }
   ],
   "source": [
    "z[::-1]"
   ]
  }
 ],
 "metadata": {
  "kernelspec": {
   "display_name": "Python 3",
   "language": "python",
   "name": "python3"
  },
  "language_info": {
   "codemirror_mode": {
    "name": "ipython",
    "version": 3
   },
   "file_extension": ".py",
   "mimetype": "text/x-python",
   "name": "python",
   "nbconvert_exporter": "python",
   "pygments_lexer": "ipython3",
   "version": "3.8.5"
  }
 },
 "nbformat": 4,
 "nbformat_minor": 4
}
