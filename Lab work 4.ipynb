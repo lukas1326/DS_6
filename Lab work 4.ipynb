{
 "cells": [
  {
   "cell_type": "markdown",
   "metadata": {},
   "source": [
    "___\n",
    "\n",
    "<a href='https://mainacademy.ua/'> <img src='https://mainacademy.ua/wp-content/uploads/2019/03/logo-main.png' alt = 'Хмм, щось з інтернетом'/></a>\n",
    "___\n",
    "\n",
    "# Module 4: Work with data professionally!"
   ]
  },
  {
   "cell_type": "markdown",
   "metadata": {},
   "source": [
    "## Lab work 4\n",
    "\n"
   ]
  },
  {
   "cell_type": "markdown",
   "metadata": {},
   "source": [
    "#### Мета: \n",
    "\n",
    "* навчитися обробляти дані\n",
    "* \"парсити\" сайти"
   ]
  },
  {
   "cell_type": "markdown",
   "metadata": {},
   "source": [
    "### Завдання 1:"
   ]
  },
  {
   "cell_type": "markdown",
   "metadata": {},
   "source": [
    "#### Ознайомитися із API Національного банку \n",
    "https://old.bank.gov.ua/control/uk/publish/article?art_id=38441973&cat_id=38459171#exchange\n",
    "\n"
   ]
  },
  {
   "cell_type": "markdown",
   "metadata": {},
   "source": [
    "1. Підключитися до API.\n"
   ]
  },
  {
   "cell_type": "code",
   "execution_count": 1,
   "metadata": {},
   "outputs": [],
   "source": [
    "import requests\n",
    "from datetime import datetime, timedelta\n",
    "import statistics"
   ]
  },
  {
   "cell_type": "code",
   "execution_count": 2,
   "metadata": {},
   "outputs": [],
   "source": [
    "\n",
    "def con_to_api(date):\n",
    "    param = {'date' : date.strftime('%Y%m%d'), 'valcode' : 'USD'}\n",
    "    r = requests.get('https://bank.gov.ua/NBUStatService/v1/statdirectory/exchange?json', params=param)\n",
    "    if r.status_code == 200:\n",
    "        return r.json()[0]['rate']\n",
    "    return None\n"
   ]
  },
  {
   "cell_type": "markdown",
   "metadata": {},
   "source": [
    "2. Отримати курс долара за останній рік."
   ]
  },
  {
   "cell_type": "code",
   "execution_count": 3,
   "metadata": {},
   "outputs": [
    {
     "name": "stdout",
     "output_type": "stream",
     "text": [
      "Введіть к-сть днів для аналітики: 20\n",
      "Середнє значення USD за останні 20 днів становить = 27.881805\n"
     ]
    }
   ],
   "source": [
    "from datetime import datetime, timedelta\n",
    "from statistics import median, mean\n",
    "\n",
    "import requests\n",
    "\n",
    "BASE = [] \n",
    "\n",
    "def con_to_api(date):\n",
    "    param = {'date' : date.strftime('%Y%m%d'), 'valcode' : 'USD'}\n",
    "    r = requests.get('https://bank.gov.ua/NBUStatService/v1/statdirectory/exchange?json', params=param)\n",
    "    if r.status_code == 200:\n",
    "        return r.json()[0]['rate']\n",
    "    return None\n",
    "\n",
    "\n",
    "def union_info(qty):\n",
    "    \n",
    "    date = datetime.today()\n",
    "    \n",
    "    for i in range(qty):\n",
    "        date = date - timedelta(days=1)\n",
    "        rate = con_to_api(date)\n",
    "        BASE.append(rate)\n",
    "\n",
    "\n",
    "if __name__ == '__main__':\n",
    "    qty = int(input('Введіть к-сть днів для аналітики: '))\n",
    "    union_info(qty)\n",
    "    print(f\"Середнє значення USD за останні {qty} днів становить = {mean(BASE)}\")"
   ]
  },
  {
   "cell_type": "markdown",
   "metadata": {},
   "source": [
    "3. Вивести середнє значення та відхилення курсу за кожний місяць."
   ]
  },
  {
   "cell_type": "code",
   "execution_count": 4,
   "metadata": {},
   "outputs": [],
   "source": [
    "year_ago  = datetime.today() - timedelta(days=365)\n"
   ]
  },
  {
   "cell_type": "code",
   "execution_count": 5,
   "metadata": {
    "scrolled": true
   },
   "outputs": [],
   "source": [
    "rate_list = [(con_to_api(year_ago+timedelta(days=i)),((year_ago+timedelta(days=i)).year*100+(year_ago+timedelta(days=i)).month)) for i in range(365)]\n"
   ]
  },
  {
   "cell_type": "code",
   "execution_count": 6,
   "metadata": {},
   "outputs": [],
   "source": [
    "year_month = set([i[1] for i in rate_list])"
   ]
  },
  {
   "cell_type": "code",
   "execution_count": 7,
   "metadata": {},
   "outputs": [
    {
     "data": {
      "text/plain": [
       "[('04', '2021', 27.889860000000006, 0.0657634008312292),\n",
       " ('04', '2020', 27.120145, 0.0918190295320668),\n",
       " ('05', '2020', 26.814329032258055, 0.13470483335438327),\n",
       " ('06', '2020', 26.707343333333327, 0.07284717438646436),\n",
       " ('07', '2020', 27.312838709677415, 0.3642097762530265),\n",
       " ('08', '2020', 27.52141935483871, 0.14819453525541967),\n",
       " ('09', '2020', 27.97671666666667, 0.2409137677795668),\n",
       " ('10', '2020', 28.324951612903224, 0.055517948274816174),\n",
       " ('11', '2020', 28.310153333333343, 0.1508870820853458),\n",
       " ('12', '2020', 28.16971935483871, 0.24976838393380232),\n",
       " ('01', '2021', 28.219770967741937, 0.1231532113359842),\n",
       " ('02', '2021', 27.88466071428571, 0.10631085913415092),\n",
       " ('03', '2021', 27.79555806451613, 0.11551466219833594)]"
      ]
     },
     "execution_count": 7,
     "metadata": {},
     "output_type": "execute_result"
    }
   ],
   "source": [
    "l2 = []\n",
    "for j in year_month:\n",
    "    month = str(j)[4:]\n",
    "    year = str(j)[0:4]\n",
    "    mean = sum([i[0] for i in rate_list if i[1]==j])/len([i[0] for i in rate_list if i[1]==j])\n",
    "    stdev = statistics.stdev([i[0] for i in rate_list if i[1]==j])\n",
    "    l2.append((month,year,mean,stdev))\n",
    "l2"
   ]
  },
  {
   "cell_type": "markdown",
   "metadata": {},
   "source": [
    "4. Дану інформацію записати у файл за допомогою pickle."
   ]
  },
  {
   "cell_type": "code",
   "execution_count": 8,
   "metadata": {},
   "outputs": [],
   "source": [
    "import pickle\n",
    "\n",
    "with open('rate_last365.pickle', 'wb') as f: \n",
    "    pickle.dump(l2, f)"
   ]
  },
  {
   "cell_type": "markdown",
   "metadata": {},
   "source": [
    "### Завдання 2:"
   ]
  },
  {
   "cell_type": "markdown",
   "metadata": {},
   "source": [
    "Потрібно проаналізувати всі товари на сайті: \n",
    "https://smallpacking.agrosem.ua/shop/"
   ]
  },
  {
   "cell_type": "markdown",
   "metadata": {},
   "source": [
    "Створіть базу даних, що містить таблицю із такими стовбцями: \n",
    "    - артикул товару\n",
    "    - найменування\n",
    "    - ціна \n",
    "    - вага"
   ]
  },
  {
   "cell_type": "code",
   "execution_count": 9,
   "metadata": {},
   "outputs": [],
   "source": [
    "HEADERS = {\n",
    "            'User-Agent': 'Mozilla/5.0 (Windows NT 6.1; WOW64; rv:49.0) Gecko/20100101 Firefox/49.0',\n",
    "            'Accept': 'text/html,application/xhtml+xml,application/xml;q=0.9,*/*;q=0.8',\n",
    "            'Accept-Language': 'en-US,en;q=0.5',\n",
    "            'Accept-Encoding': 'gzip, deflate',\n",
    "            'DNT': '1',\n",
    "            'Connection': 'keep-alive',\n",
    "            'Upgrade-Insecure-Requests': '1'\n",
    "        }\n"
   ]
  },
  {
   "cell_type": "code",
   "execution_count": 10,
   "metadata": {},
   "outputs": [],
   "source": [
    "import requests\n",
    "from bs4 import BeautifulSoup\n",
    "\n",
    "SITE = 'https://smallpacking.agrosem.ua/shop/page/'"
   ]
  },
  {
   "cell_type": "code",
   "execution_count": 11,
   "metadata": {},
   "outputs": [],
   "source": [
    "prod_links = []\n",
    "for i in range(1,4):\n",
    "    r = requests.get(SITE+str(i), headers=HEADERS)\n",
    "\n",
    "    if r.status_code == 200:\n",
    "        soup = BeautifulSoup(r.text, 'lxml')\n",
    "        for el in soup.find_all('div', class_='product-from-category-container'):\n",
    "            prod_links.append(el.find('a')['href'])\n"
   ]
  },
  {
   "cell_type": "code",
   "execution_count": 12,
   "metadata": {
    "scrolled": false
   },
   "outputs": [],
   "source": [
    "sku = []\n",
    "price = []\n",
    "name = []\n",
    "weight = []\n",
    "for i in range(len(prod_links)):\n",
    "    r = requests.get(prod_links[i], headers=HEADERS)\n",
    "    if r.status_code == 200:\n",
    "            soup = BeautifulSoup(r.text, 'lxml')\n",
    "    for el in soup.find('span', class_ = 'sku'):\n",
    "        sku.append(el.split()[1])\n",
    "\n",
    "    try:\n",
    "        for el in soup.find('span', class_ = 'regular-price'):\n",
    "            price1 = \"\".join(el.split())\n",
    "            price1 = int(price1)\n",
    "           \n",
    "            price.append(price1)\n",
    "    except TypeError:\n",
    "        None\n",
    "\n",
    "    for el in soup.find('div', class_ = 'atributes-description').find('h2'):\n",
    "        name.append(el)\n",
    "\n",
    "    for el in soup.find_all('tr', class_ = 'woocommerce-product-attributes-item--attribute_pa_fasovka-dobriv'):\n",
    "        weight.append(el.find('p').text)\n"
   ]
  },
  {
   "cell_type": "code",
   "execution_count": 13,
   "metadata": {},
   "outputs": [],
   "source": [
    "import sqlite3"
   ]
  },
  {
   "cell_type": "code",
   "execution_count": 15,
   "metadata": {},
   "outputs": [],
   "source": [
    "conn = sqlite3.connect('agrosem_site1.sqlite3')\n",
    "curs = conn.cursor()\n",
    "curs.execute(\"CREATE TABLE semena (sku TEXT,name TEXT, price INT, weight TEXT)\")\n",
    "conn.close()"
   ]
  },
  {
   "cell_type": "code",
   "execution_count": 16,
   "metadata": {},
   "outputs": [],
   "source": [
    "conn = sqlite3.connect('agrosem_site1.sqlite3')\n",
    "curs = conn.cursor()\n",
    "for i in range(len(sku)):\n",
    "    curs.execute(\"INSERT INTO semena (sku, name, price, weight)\"\n",
    "              \" VALUES (?, ?, ?, ?)\",\n",
    "              (sku[i], name[i], price[i], weight[i]))\n",
    "conn.commit()\n",
    "conn.close()"
   ]
  },
  {
   "cell_type": "code",
   "execution_count": 17,
   "metadata": {},
   "outputs": [
    {
     "name": "stdout",
     "output_type": "stream",
     "text": [
      "[('439226', 'Добриво для фруктових та горіхових дерев', 415, '1 кг, 3 кг'), ('1297', 'Добриво для ягідних чагарників', 415, '1 кг, 3 кг'), ('91897', 'Добриво для ягідних чагарників', 173, '1 кг, 3 кг'), ('61169', 'Добриво універсальне грунтове', 173, '1 кг, 10 кг, 3 кг'), ('6651824', 'Добриво універсальне грунтове', 415, '1 кг, 10 кг, 3 кг'), ('5227876', 'Добриво універсальне грунтове', 1149, '1 кг, 10 кг, 3 кг'), ('32237', 'Добриво для декоративних листових', 415, '1 кг, 3 кг'), ('4165215', 'Добриво для вічнозелених дерев та кущів', 1149, '1 кг, 10 кг, 3 кг'), ('682645', 'Добриво універсальне грунтове', 415, '1 кг, 10 кг, 3 кг'), ('7435', 'Добриво універсальне грунтове', 173, '1 кг, 10 кг, 3 кг'), ('9354141', 'Добриво для газону', 415, '1 кг, 10 кг, 3 кг'), ('1955', 'Добриво для вічнозелених дерев та кущів', 173, '1 кг, 10 кг, 3 кг'), ('455799', 'Добриво для газону', 173, '1 кг, 10 кг, 3 кг'), ('991645', 'Добриво для декоративних листових', 173, '1 кг, 3 кг'), ('17477', 'Добриво універсальне грунтове', 1149, '1 кг, 10 кг, 3 кг'), ('7143174', 'Добриво для газону', 415, '1 кг, 10 кг, 3 кг'), ('3593', 'Добриво для полуниці', 173, '1 кг'), ('4738184', 'Добриво для вічнозелених дерев та кущів', 415, '1 кг, 10 кг, 3 кг'), ('3177412', 'Добриво для фруктових та горіхових дерев', 173, '1 кг, 3 кг'), ('16762', 'Добриво для газону', 1149, '1 кг, 10 кг, 3 кг'), ('78747', 'Добриво для декоративних листових', 415, '1 кг, 3 кг'), ('5218', 'Добриво для вічнозелених дерев та кущів', 1149, '1 кг, 10 кг, 3 кг'), ('33486', 'Добриво для декоративних листових', 173, '1 кг, 3 кг'), ('198742', 'Добриво для овочів', 415, '1 кг, 3 кг'), ('797756', 'Добриво для винограду', 173, '1 кг'), ('726319', 'Добриво для вічнозелених дерев та кущів', 415, '1 кг, 10 кг, 3 кг'), ('789868', 'Добриво для газону', 155, '1 кг, 10 кг, 3 кг'), ('88255', 'Добриво для овочів', 173, '1 кг, 3 кг'), ('68183', 'Добриво для розсади', 173, '1 кг'), ('5656841', 'Добриво для тепличних овочів', 415, '1 кг, 3 кг'), ('2217672', 'Добриво для троянд', 173, '1 кг'), ('8362626', 'Добриво для вічнозелених дерев та кущів', 155, '1 кг, 10 кг, 3 кг'), ('375738', 'Добриво для газону', 1149, '1 кг, 10 кг, 3 кг'), ('51561', 'Добриво для тепличних овочів', 173, '1 кг, 3 кг')]\n"
     ]
    }
   ],
   "source": [
    "conn = sqlite3.connect('agrosem_site1.sqlite3')\n",
    "curs = conn.cursor()\n",
    "curs.execute('SELECT * FROM semena')\n",
    "print(curs.fetchall())\n",
    "conn.close()"
   ]
  },
  {
   "cell_type": "markdown",
   "metadata": {},
   "source": [
    "### Завдання 3: "
   ]
  },
  {
   "cell_type": "markdown",
   "metadata": {},
   "source": [
    "Ознайомтеся із роботою SQLite та відповідним модулем у Python.\n",
    "Завантажте базу даних для виконання лабораторної роботи.\n",
    "Підключіться до завантаженої бази SQLite."
   ]
  },
  {
   "cell_type": "markdown",
   "metadata": {},
   "source": [
    "1. Виведіть інформацію про дану базу."
   ]
  },
  {
   "cell_type": "code",
   "execution_count": 30,
   "metadata": {},
   "outputs": [
    {
     "name": "stdout",
     "output_type": "stream",
     "text": [
      "[('table', 'Customers', 'Customers', 2, 'CREATE TABLE Customers\\n(\\n  cust_id      char(10)  NOT NULL ,\\n  cust_name    char(50)  NOT NULL ,\\n  cust_address char(50)  NULL ,\\n  cust_city    char(50)  NULL ,\\n  cust_state   char(5)   NULL ,\\n  cust_zip     char(10)  NULL ,\\n  cust_country char(50)  NULL ,\\n  cust_contact char(50)  NULL ,\\n  cust_email   char(255) NULL ,\\n  PRIMARY KEY (cust_id)\\n)'), ('index', 'sqlite_autoindex_Customers_1', 'Customers', 3, None), ('table', 'OrderItems', 'OrderItems', 4, 'CREATE TABLE OrderItems\\n(\\n  order_num  int          NOT NULL                      ,\\n  order_item int          NOT NULL                      ,\\n  prod_id    char(10)     NOT NULL                      ,\\n  quantity   int          NOT NULL                      ,\\n  item_price decimal(8,2) NOT NULL                      ,\\n  PRIMARY KEY (order_num, order_item)                   ,\\n  FOREIGN KEY (order_num) REFERENCES Orders (order_num) ,\\n  FOREIGN KEY (prod_id) REFERENCES Products (prod_id)\\n)'), ('index', 'sqlite_autoindex_OrderItems_1', 'OrderItems', 5, None), ('table', 'Orders', 'Orders', 7, 'CREATE TABLE Orders\\n(\\n  order_num  int      NOT NULL ,\\n  order_date datetime NOT NULL ,\\n  cust_id    char(10) NOT NULL ,\\n  PRIMARY KEY (order_num)      ,\\n  FOREIGN KEY (cust_id) REFERENCES Customers (cust_id)\\n)'), ('index', 'sqlite_autoindex_Orders_1', 'Orders', 9, None), ('table', 'Products', 'Products', 10, 'CREATE TABLE Products\\n(\\n  prod_id    char(10)      NOT NULL ,\\n  vend_id    char(10)      NOT NULL ,\\n  prod_name  char(255)     NOT NULL ,\\n  prod_price decimal(8,2)  NOT NULL ,\\n  prod_desc  text          NULL     ,\\n  PRIMARY KEY (prod_id)             ,\\n  FOREIGN KEY (vend_id) REFERENCES Vendors (vend_id)\\n)'), ('index', 'sqlite_autoindex_Products_1', 'Products', 11, None), ('table', 'Vendors', 'Vendors', 12, 'CREATE TABLE Vendors\\n(\\n  vend_id      char(10) NOT NULL ,\\n  vend_name    char(50) NOT NULL ,\\n  vend_address char(50) NULL     ,\\n  vend_city    char(50) NULL     ,\\n  vend_state   char(5)  NULL     ,\\n  vend_zip     char(10) NULL     ,\\n  vend_country char(50) NULL     ,\\n  PRIMARY KEY (vend_id)\\n)'), ('index', 'sqlite_autoindex_Vendors_1', 'Vendors', 13, None)]\n"
     ]
    }
   ],
   "source": [
    "con = sqlite3.connect('tysql.sqlite')\n",
    "cursor = con.cursor()\n",
    "cursor.execute(\"SELECT * FROM sqlite_master\")\n",
    "print(cursor.fetchall())\n",
    "conn.close()"
   ]
  },
  {
   "cell_type": "markdown",
   "metadata": {},
   "source": [
    "2. Виведіть перелік всіх таблиць."
   ]
  },
  {
   "cell_type": "code",
   "execution_count": 29,
   "metadata": {},
   "outputs": [
    {
     "name": "stdout",
     "output_type": "stream",
     "text": [
      "[('Customers',), ('OrderItems',), ('Orders',), ('Products',), ('Vendors',)]\n"
     ]
    }
   ],
   "source": [
    "con = sqlite3.connect('tysql.sqlite')\n",
    "cursor = con.cursor()\n",
    "cursor.execute(\"SELECT name FROM sqlite_master WHERE type='table'\")\n",
    "print(cursor.fetchall())\n",
    "conn.close()"
   ]
  },
  {
   "cell_type": "markdown",
   "metadata": {},
   "source": [
    "3. Список всіх cust_id з таблиці Customers table."
   ]
  },
  {
   "cell_type": "code",
   "execution_count": 31,
   "metadata": {},
   "outputs": [
    {
     "name": "stdout",
     "output_type": "stream",
     "text": [
      "[('1000000001',), ('1000000002',), ('1000000003',), ('1000000004',), ('1000000005',)]\n"
     ]
    }
   ],
   "source": [
    "con = sqlite3.connect('tysql.sqlite')\n",
    "cursor = con.cursor()\n",
    "cursor.execute(\"SELECT cust_id FROM Customers\")\n",
    "print(cursor.fetchall())\n",
    "conn.close()"
   ]
  },
  {
   "cell_type": "markdown",
   "metadata": {},
   "source": [
    "4. Всю таблицю Customers table"
   ]
  },
  {
   "cell_type": "code",
   "execution_count": 33,
   "metadata": {},
   "outputs": [
    {
     "name": "stdout",
     "output_type": "stream",
     "text": [
      "[('1000000001', 'Village Toys', '200 Maple Lane', 'Detroit', 'MI', '44444', 'USA', 'John Smith', 'sales@villagetoys.com'), ('1000000002', 'Kids Place', '333 South Lake Drive', 'Columbus', 'OH', '43333', 'USA', 'Michelle Green', None), ('1000000003', 'Fun4All', '1 Sunny Place', 'Muncie', 'IN', '42222', 'USA', 'Jim Jones', 'jjones@fun4all.com'), ('1000000004', 'Fun4All', '829 Riverside Drive', 'Phoenix', 'AZ', '88888', 'USA', 'Denise L. Stephens', 'dstephens@fun4all.com'), ('1000000005', 'The Toy Store', '4545 53rd Street', 'Chicago', 'IL', '54545', 'USA', 'Kim Howard', None)]\n"
     ]
    }
   ],
   "source": [
    "con = sqlite3.connect('tysql.sqlite')\n",
    "cursor = con.cursor()\n",
    "cursor.execute(\"SELECT * FROM Customers\")\n",
    "print(cursor.fetchall())\n",
    "conn.close()"
   ]
  },
  {
   "cell_type": "markdown",
   "metadata": {},
   "source": [
    "5. Список клієнтів (cust_names) відсортованих від Z до A"
   ]
  },
  {
   "cell_type": "code",
   "execution_count": 36,
   "metadata": {},
   "outputs": [
    {
     "name": "stdout",
     "output_type": "stream",
     "text": [
      "[('Village Toys',), ('The Toy Store',), ('Kids Place',), ('Fun4All',), ('Fun4All',)]\n"
     ]
    }
   ],
   "source": [
    "con = sqlite3.connect('tysql.sqlite')\n",
    "cursor = con.cursor()\n",
    "cursor.execute(\"SELECT cust_name FROM Customers ORDER BY cust_name DESC\")\n",
    "print(cursor.fetchall())\n",
    "conn.close()"
   ]
  },
  {
   "cell_type": "markdown",
   "metadata": {},
   "source": [
    "6. Таблицю клієнтів та замовлень (cust_id і order_num) . Відсортуйте по клієнту і потім по даті замовлення"
   ]
  },
  {
   "cell_type": "code",
   "execution_count": 42,
   "metadata": {},
   "outputs": [
    {
     "name": "stdout",
     "output_type": "stream",
     "text": [
      "[('Fun4All', 20006), ('Fun4All', 20007), ('The Toy Store', 20008), ('Village Toys', 20009), ('Village Toys', 20005)]\n"
     ]
    }
   ],
   "source": [
    "script = \"\"\"\n",
    "SELECT cust_name,order_num\n",
    "FROM Customers \n",
    "JOIN Orders ON Customers.cust_id = Orders.cust_id\n",
    "ORDER BY cust_name, Orders.order_date\n",
    "\n",
    "\n",
    "\n",
    "\"\"\"\n",
    "\n",
    "con = sqlite3.connect('tysql.sqlite')\n",
    "cursor = con.cursor()\n",
    "cursor.execute(\n",
    "    script)\n",
    "print(cursor.fetchall())\n",
    "conn.close()"
   ]
  },
  {
   "cell_type": "markdown",
   "metadata": {},
   "source": [
    "7. Таблицю (на основі Items) з кількість та вартістю товару. Відсортуйте в порядку спадання по кількості та вартості"
   ]
  },
  {
   "cell_type": "code",
   "execution_count": 44,
   "metadata": {},
   "outputs": [
    {
     "name": "stdout",
     "output_type": "stream",
     "text": [
      "[(250, 2.49), (250, 2.49), (250, 2.49), (100, 10.99), (100, 5.49), (100, 2.99), (100, 2.99), (100, 2.99), (50, 11.49), (50, 4.49), (20, 5.99), (10, 11.99), (10, 8.99), (10, 3.49), (10, 3.49), (10, 3.49), (5, 11.99), (5, 4.99)]\n"
     ]
    }
   ],
   "source": [
    "script = \"\"\"\n",
    "SELECT quantity, item_price\n",
    "FROM OrderItems\n",
    "ORDER BY  quantity DESC, item_price DESC\n",
    "\n",
    "\n",
    "\"\"\"\n",
    "\n",
    "con = sqlite3.connect('tysql.sqlite')\n",
    "cursor = con.cursor()\n",
    "cursor.execute(\n",
    "    script)\n",
    "print(cursor.fetchall())\n",
    "conn.close()"
   ]
  },
  {
   "cell_type": "markdown",
   "metadata": {},
   "source": [
    "8. Товар (з таблиці Products), ціна якого становить 9.49"
   ]
  },
  {
   "cell_type": "code",
   "execution_count": null,
   "metadata": {},
   "outputs": [],
   "source": []
  },
  {
   "cell_type": "markdown",
   "metadata": {},
   "source": [
    "9. Виведіть назву товару та ціну, яка лежить в діапазоні від  3 до 6. Відсортуйте результат в по ціні в порядку зростання"
   ]
  },
  {
   "cell_type": "code",
   "execution_count": null,
   "metadata": {},
   "outputs": [],
   "source": []
  },
  {
   "cell_type": "markdown",
   "metadata": {},
   "source": [
    "10. Кількість товару, що було продано"
   ]
  },
  {
   "cell_type": "code",
   "execution_count": null,
   "metadata": {},
   "outputs": [],
   "source": []
  },
  {
   "cell_type": "markdown",
   "metadata": {},
   "source": [
    "11. Кількість найменувань товару, ціна якого більша за 4"
   ]
  },
  {
   "cell_type": "code",
   "execution_count": null,
   "metadata": {},
   "outputs": [],
   "source": []
  },
  {
   "cell_type": "markdown",
   "metadata": {},
   "source": [
    "12. Розробіть алгоритм для виведення 3 найдорожчих товарів в базі"
   ]
  },
  {
   "cell_type": "code",
   "execution_count": null,
   "metadata": {},
   "outputs": [],
   "source": []
  },
  {
   "cell_type": "markdown",
   "metadata": {},
   "source": [
    "13. Підрахуйте кількість замовлень для кожного клієнта використовуючи підзапити"
   ]
  },
  {
   "cell_type": "code",
   "execution_count": null,
   "metadata": {},
   "outputs": [],
   "source": []
  },
  {
   "cell_type": "markdown",
   "metadata": {},
   "source": [
    "14. Виведіть список клієнтів та їх замовлення (використайте JOIN)"
   ]
  },
  {
   "cell_type": "code",
   "execution_count": null,
   "metadata": {},
   "outputs": [],
   "source": []
  },
  {
   "cell_type": "markdown",
   "metadata": {},
   "source": [
    "15. Зробіть два запити: список товарів, ціна яких менша 5 та список товарів, ціна який більша рівна 5. Використайте UNION для об'єднання цих запитів"
   ]
  },
  {
   "cell_type": "code",
   "execution_count": null,
   "metadata": {},
   "outputs": [],
   "source": []
  },
  {
   "cell_type": "markdown",
   "metadata": {},
   "source": [
    "### Завдання 4: "
   ]
  },
  {
   "cell_type": "markdown",
   "metadata": {},
   "source": [
    "Зареєструйтеся на сайті  http://www.sql-ex.ru/\n",
    "\n",
    "Виконайте завдання із блоку SELECT; з 1 по 30 завдання\n",
    "\n",
    "Код запитів вставляйте сюди\n"
   ]
  },
  {
   "cell_type": "code",
   "execution_count": null,
   "metadata": {},
   "outputs": [],
   "source": []
  }
 ],
 "metadata": {
  "kernelspec": {
   "display_name": "Python 3",
   "language": "python",
   "name": "python3"
  },
  "language_info": {
   "codemirror_mode": {
    "name": "ipython",
    "version": 3
   },
   "file_extension": ".py",
   "mimetype": "text/x-python",
   "name": "python",
   "nbconvert_exporter": "python",
   "pygments_lexer": "ipython3",
   "version": "3.9.2"
  }
 },
 "nbformat": 4,
 "nbformat_minor": 2
}
